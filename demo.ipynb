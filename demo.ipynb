{
 "cells": [
  {
   "cell_type": "markdown",
   "metadata": {},
   "source": [
    "### 1. Load libraries"
   ]
  },
  {
   "cell_type": "code",
   "execution_count": 6,
   "metadata": {},
   "outputs": [],
   "source": [
    "import synapseclient\n",
    "from scoremtb.score import compute_score as cs\n",
    "from scoremtb.score import get_syndata as gsyn\n",
    "import pandas as pd"
   ]
  },
  {
   "cell_type": "markdown",
   "metadata": {},
   "source": [
    "### 2. Load dataset"
   ]
  },
  {
   "cell_type": "code",
   "execution_count": 2,
   "metadata": {},
   "outputs": [],
   "source": [
    "PARQUET_FOLDER_ID = 'syn29357579'"
   ]
  },
  {
   "cell_type": "code",
   "execution_count": 7,
   "metadata": {},
   "outputs": [
    {
     "name": "stdout",
     "output_type": "stream",
     "text": [
      "Welcome, Larsson Omberg!\n",
      "\n"
     ]
    },
    {
     "name": "stderr",
     "output_type": "stream",
     "text": [
      "INFO:synapseclient_default:Welcome, Larsson Omberg!\n",
      "\n"
     ]
    }
   ],
   "source": [
    "# Load data from S3\n",
    "syn = synapseclient.login()\n",
    "dfid = gsyn.parquet_2_df(syn, PARQUET_FOLDER_ID, 'dataset_archivemetadata_v1/')\n",
    "stepdata = gsyn.parquet_2_df(syn, PARQUET_FOLDER_ID, 'dataset_sharedschema_v1_steps/')\n",
    "task_data = gsyn.parquet_2_df(syn, PARQUET_FOLDER_ID, 'dataset_sharedschema_v1/')\n",
    "task_status = gsyn.parquet_2_df(syn, PARQUET_FOLDER_ID, 'dataset_sharedschema_v1_taskStatus/')\n"
   ]
  },
  {
   "cell_type": "code",
   "execution_count": 8,
   "metadata": {},
   "outputs": [],
   "source": [
    "#Merge task status\n",
    "task_status = task_status.drop(columns=['id', 'index'])\n",
    "dfid = dfid.merge(task_status, on = ['recordid', 'assessmentid', 'year', 'month', 'day'],\n",
    "                    how='left').reset_index(drop=True)"
   ]
  },
  {
   "cell_type": "markdown",
   "metadata": {},
   "source": [
    "### 3. Filter Scores"
   ]
  },
  {
   "cell_type": "markdown",
   "metadata": {},
   "source": [
    "##### 3.1 Study membership details"
   ]
  },
  {
   "cell_type": "code",
   "execution_count": 28,
   "metadata": {},
   "outputs": [],
   "source": [
    "table_syn = syn.tableQuery('SELECT healthCode, participantVersion, studyMemberships FROM syn29300177')\n",
    "study_reference = (table_syn.asDataFrame()\n",
    "                     .sort_values(by=['healthCode', 'participantVersion'])\n",
    "                     .reset_index(drop=True)\n",
    "                     .loc[:,['healthCode','studyMemberships']]\n",
    "                     .rename(columns={\"healthCode\": \"healthcode\"})\n",
    "                     .drop_duplicates(keep='last').reset_index(drop=True)\n",
    "                )\n"
   ]
  },
  {
   "cell_type": "markdown",
   "metadata": {},
   "source": [
    "#### 3.2 Spelling"
   ]
  },
  {
   "cell_type": "code",
   "execution_count": 29,
   "metadata": {},
   "outputs": [],
   "source": [
    "spelling_score = cs.get_score(task_data, stepdata, dfid, 'spelling', study_reference)"
   ]
  },
  {
   "cell_type": "markdown",
   "metadata": {},
   "source": [
    "#### 3.3 Vocab"
   ]
  },
  {
   "cell_type": "code",
   "execution_count": 30,
   "metadata": {},
   "outputs": [],
   "source": [
    "vocab_score = cs.get_score(task_data, stepdata, dfid, 'vocabulary', study_reference)"
   ]
  },
  {
   "cell_type": "markdown",
   "metadata": {},
   "source": [
    "#### 3.4 PSM"
   ]
  },
  {
   "cell_type": "code",
   "execution_count": 31,
   "metadata": {},
   "outputs": [
    {
     "name": "stderr",
     "output_type": "stream",
     "text": [
      "[WARNING] /Users/lom/Dropbox/Sage/mobile/mobile_toolbox/MTB_scoring/scoremtb/score/score_commons.py:197: SettingWithCopyWarning: \n",
      "A value is trying to be set on a copy of a slice from a DataFrame.\n",
      "Try using .loc[row_indexer,col_indexer] = value instead\n",
      "\n",
      "See the caveats in the documentation: https://pandas.pydata.org/pandas-docs/stable/user_guide/indexing.html#returning-a-view-versus-a-copy\n",
      "  psm_filter[config[assmnt_val + '_score'][0]] = psm_filter.loc[:, config[assmnt_val + '_adjacentp']].sum(axis=1)\n",
      "\n",
      "WARNING:py.warnings:/Users/lom/Dropbox/Sage/mobile/mobile_toolbox/MTB_scoring/scoremtb/score/score_commons.py:197: SettingWithCopyWarning: \n",
      "A value is trying to be set on a copy of a slice from a DataFrame.\n",
      "Try using .loc[row_indexer,col_indexer] = value instead\n",
      "\n",
      "See the caveats in the documentation: https://pandas.pydata.org/pandas-docs/stable/user_guide/indexing.html#returning-a-view-versus-a-copy\n",
      "  psm_filter[config[assmnt_val + '_score'][0]] = psm_filter.loc[:, config[assmnt_val + '_adjacentp']].sum(axis=1)\n",
      "\n",
      "[WARNING] /Users/lom/Dropbox/Sage/mobile/mobile_toolbox/MTB_scoring/scoremtb/score/score_commons.py:198: SettingWithCopyWarning: \n",
      "A value is trying to be set on a copy of a slice from a DataFrame.\n",
      "Try using .loc[row_indexer,col_indexer] = value instead\n",
      "\n",
      "See the caveats in the documentation: https://pandas.pydata.org/pandas-docs/stable/user_guide/indexing.html#returning-a-view-versus-a-copy\n",
      "  psm_filter[config[assmnt_val + '_score'][1]] = psm_filter.loc[:, config[assmnt_val + '_exactm']].sum(axis=1)\n",
      "\n",
      "WARNING:py.warnings:/Users/lom/Dropbox/Sage/mobile/mobile_toolbox/MTB_scoring/scoremtb/score/score_commons.py:198: SettingWithCopyWarning: \n",
      "A value is trying to be set on a copy of a slice from a DataFrame.\n",
      "Try using .loc[row_indexer,col_indexer] = value instead\n",
      "\n",
      "See the caveats in the documentation: https://pandas.pydata.org/pandas-docs/stable/user_guide/indexing.html#returning-a-view-versus-a-copy\n",
      "  psm_filter[config[assmnt_val + '_score'][1]] = psm_filter.loc[:, config[assmnt_val + '_exactm']].sum(axis=1)\n",
      "\n"
     ]
    }
   ],
   "source": [
    "PSM_score = cs.get_score(task_data, stepdata, dfid, 'psm', study_reference)"
   ]
  },
  {
   "cell_type": "markdown",
   "metadata": {},
   "source": [
    "#### 3.5 MFS"
   ]
  },
  {
   "cell_type": "code",
   "execution_count": 32,
   "metadata": {},
   "outputs": [],
   "source": [
    "score_mfs = cs.get_score(task_data, stepdata, dfid, 'memory-for-sequences', study_reference)"
   ]
  },
  {
   "cell_type": "markdown",
   "metadata": {},
   "source": [
    "#### 3.6 DCCS"
   ]
  },
  {
   "cell_type": "code",
   "execution_count": 33,
   "metadata": {},
   "outputs": [],
   "source": [
    "score_dccs = cs.get_score(task_data, stepdata, dfid, 'dccs', study_reference)"
   ]
  },
  {
   "cell_type": "markdown",
   "metadata": {},
   "source": [
    "#### 3.7 Fname"
   ]
  },
  {
   "cell_type": "code",
   "execution_count": 34,
   "metadata": {},
   "outputs": [],
   "source": [
    "score_fname = cs.get_score(task_data, stepdata, dfid, 'fnameb', study_reference)"
   ]
  },
  {
   "cell_type": "markdown",
   "metadata": {},
   "source": [
    "#### 3.8 Number Match"
   ]
  },
  {
   "cell_type": "code",
   "execution_count": 35,
   "metadata": {},
   "outputs": [],
   "source": [
    "score_nm = cs.get_score(task_data, stepdata, dfid, 'number-match', study_reference)"
   ]
  },
  {
   "cell_type": "markdown",
   "metadata": {},
   "source": [
    "#### 3.9 Flanker"
   ]
  },
  {
   "cell_type": "code",
   "execution_count": 36,
   "metadata": {},
   "outputs": [],
   "source": [
    "score_flanker = cs.get_score(task_data, stepdata, dfid, 'flanker', study_reference)"
   ]
  },
  {
   "cell_type": "markdown",
   "metadata": {},
   "source": [
    "### 4. Combine Score"
   ]
  },
  {
   "cell_type": "code",
   "execution_count": 38,
   "metadata": {},
   "outputs": [],
   "source": [
    "stack_merged = cs.combine_scores([score_mfs, score_dccs, score_fname, score_nm, score_flanker, PSM_score, \n",
    "                                   spelling_score, vocab_score], dfid)"
   ]
  },
  {
   "cell_type": "code",
   "execution_count": 39,
   "metadata": {},
   "outputs": [
    {
     "data": {
      "text/html": [
       "<div>\n",
       "<style scoped>\n",
       "    .dataframe tbody tr th:only-of-type {\n",
       "        vertical-align: middle;\n",
       "    }\n",
       "\n",
       "    .dataframe tbody tr th {\n",
       "        vertical-align: top;\n",
       "    }\n",
       "\n",
       "    .dataframe thead th {\n",
       "        text-align: right;\n",
       "    }\n",
       "</style>\n",
       "<table border=\"1\" class=\"dataframe\">\n",
       "  <thead>\n",
       "    <tr style=\"text-align: right;\">\n",
       "      <th></th>\n",
       "      <th>healthcode</th>\n",
       "      <th>recordid</th>\n",
       "      <th>assessmentid</th>\n",
       "      <th>deviceInfo</th>\n",
       "      <th>startDate</th>\n",
       "      <th>endDate</th>\n",
       "      <th>participantversion</th>\n",
       "      <th>clientinfo</th>\n",
       "      <th>sessionguid</th>\n",
       "      <th>taskStatus_val</th>\n",
       "      <th>sessionstarteventid</th>\n",
       "      <th>scoreId</th>\n",
       "      <th>score</th>\n",
       "      <th>study_reference</th>\n",
       "      <th>participant_id</th>\n",
       "      <th>dataGroups</th>\n",
       "    </tr>\n",
       "  </thead>\n",
       "  <tbody>\n",
       "    <tr>\n",
       "      <th>0</th>\n",
       "      <td>cY4HIctb-HGzdJBNNpq5wF9k</td>\n",
       "      <td>SHmXD5jtFlEZoKnV6D_OIk8a</td>\n",
       "      <td>memory-for-sequences</td>\n",
       "      <td>iPhone XS; iOS/15.4.1</td>\n",
       "      <td>2022-05-30T09:13:00.733-05:00</td>\n",
       "      <td>2022-05-30T09:18:20.329-05:00</td>\n",
       "      <td>2</td>\n",
       "      <td>{   \"appName\" : \"mobile-toolbox\",   \"appVersio...</td>\n",
       "      <td>K4pQ1FkyPodm_6XgUF4AlvJt</td>\n",
       "      <td>completed</td>\n",
       "      <td>enrollment</td>\n",
       "      <td>mfs_sum</td>\n",
       "      <td>11.000000</td>\n",
       "      <td>fmqcjv</td>\n",
       "      <td>6sytfu</td>\n",
       "      <td></td>\n",
       "    </tr>\n",
       "    <tr>\n",
       "      <th>1</th>\n",
       "      <td>lu00q1bRwYr51kwskzjR4gIg</td>\n",
       "      <td>damKL3weFYj3PeujGk9AMDza</td>\n",
       "      <td>memory-for-sequences</td>\n",
       "      <td>winglm LM-F100; Android/11</td>\n",
       "      <td>2022-05-30T00:53:00.809Z</td>\n",
       "      <td>2022-05-30T00:59:50.793Z</td>\n",
       "      <td>1</td>\n",
       "      <td>{   \"appName\" : \"mobile-toolbox\",   \"appVersio...</td>\n",
       "      <td>K4pQ1FkyPodm_6XgUF4AlvJt</td>\n",
       "      <td>completed</td>\n",
       "      <td>enrollment</td>\n",
       "      <td>mfs_sum</td>\n",
       "      <td>13.000000</td>\n",
       "      <td>fmqcjv</td>\n",
       "      <td>eyhtxh</td>\n",
       "      <td></td>\n",
       "    </tr>\n",
       "    <tr>\n",
       "      <th>2</th>\n",
       "      <td>LKE_vT7FqlqsIyMpORfGJ8XI</td>\n",
       "      <td>eUpDXeaH3gxzCGlYp1XJv7Jp</td>\n",
       "      <td>memory-for-sequences</td>\n",
       "      <td>iPhone 8; iOS/15.5</td>\n",
       "      <td>2022-05-29T22:08:19.030-04:00</td>\n",
       "      <td>2022-05-29T22:11:38.886-04:00</td>\n",
       "      <td>2</td>\n",
       "      <td>{   \"appName\" : \"mobile-toolbox\",   \"appVersio...</td>\n",
       "      <td>K4pQ1FkyPodm_6XgUF4AlvJt</td>\n",
       "      <td>completed</td>\n",
       "      <td>enrollment</td>\n",
       "      <td>mfs_sum</td>\n",
       "      <td>2.000000</td>\n",
       "      <td>fmqcjv</td>\n",
       "      <td>ybkp6s</td>\n",
       "      <td></td>\n",
       "    </tr>\n",
       "    <tr>\n",
       "      <th>3</th>\n",
       "      <td>FB5W5lycWo-t4CITY3EMwWkV</td>\n",
       "      <td>t08yjcYVFfOoibS7vO_MEE_W</td>\n",
       "      <td>memory-for-sequences</td>\n",
       "      <td>crownqltesq SM-N960U; Android/10</td>\n",
       "      <td>2022-05-30T00:25:32.488Z</td>\n",
       "      <td>2022-05-30T00:30:33.884Z</td>\n",
       "      <td>1</td>\n",
       "      <td>{   \"appName\" : \"mobile-toolbox\",   \"appVersio...</td>\n",
       "      <td>K4pQ1FkyPodm_6XgUF4AlvJt</td>\n",
       "      <td>completed</td>\n",
       "      <td>enrollment</td>\n",
       "      <td>mfs_sum</td>\n",
       "      <td>13.000000</td>\n",
       "      <td>fmqcjv</td>\n",
       "      <td>uk43h7</td>\n",
       "      <td></td>\n",
       "    </tr>\n",
       "    <tr>\n",
       "      <th>4</th>\n",
       "      <td>l-sAnwL4YwRgEp2HCrz8GB4b</td>\n",
       "      <td>6Cr3gtA4yczVh-UQwrA4kRQf</td>\n",
       "      <td>memory-for-sequences</td>\n",
       "      <td>iPhone 11; iOS/16.0.2</td>\n",
       "      <td>2022-10-18T20:45:56.281-07:00</td>\n",
       "      <td>2022-10-18T20:52:37.214-07:00</td>\n",
       "      <td>2</td>\n",
       "      <td>{   \"appName\" : \"mobile-toolbox\",   \"appVersio...</td>\n",
       "      <td>fvAIJs5Aqaimp9eWCjwuINQj</td>\n",
       "      <td>completed</td>\n",
       "      <td>custom:start_m6_fwd</td>\n",
       "      <td>mfs_sum</td>\n",
       "      <td>10.000000</td>\n",
       "      <td>fmqcjv</td>\n",
       "      <td>tkyzx9</td>\n",
       "      <td></td>\n",
       "    </tr>\n",
       "    <tr>\n",
       "      <th>...</th>\n",
       "      <td>...</td>\n",
       "      <td>...</td>\n",
       "      <td>...</td>\n",
       "      <td>...</td>\n",
       "      <td>...</td>\n",
       "      <td>...</td>\n",
       "      <td>...</td>\n",
       "      <td>...</td>\n",
       "      <td>...</td>\n",
       "      <td>...</td>\n",
       "      <td>...</td>\n",
       "      <td>...</td>\n",
       "      <td>...</td>\n",
       "      <td>...</td>\n",
       "      <td>...</td>\n",
       "      <td>...</td>\n",
       "    </tr>\n",
       "    <tr>\n",
       "      <th>74307</th>\n",
       "      <td>HWbvHWpiLOkOwKdvOapK_NGy</td>\n",
       "      <td>HItbsDjq2Co68NGUZJFQa8uE</td>\n",
       "      <td>vocabulary</td>\n",
       "      <td>iPhone13,2; iOS/15.3.1</td>\n",
       "      <td>2022-03-02T23:28:14.099-07:00</td>\n",
       "      <td>2022-03-02T23:28:48.593-07:00</td>\n",
       "      <td>2</td>\n",
       "      <td>{   \"appName\" : \"MobileToolboxApp\",   \"appVers...</td>\n",
       "      <td>K4pQ1FkyPodm_6XgUF4AlvJt</td>\n",
       "      <td>completed</td>\n",
       "      <td>enrollment</td>\n",
       "      <td>vocab_se</td>\n",
       "      <td>0.553688</td>\n",
       "      <td>fmqcjv</td>\n",
       "      <td>yfhkzk</td>\n",
       "      <td></td>\n",
       "    </tr>\n",
       "    <tr>\n",
       "      <th>74308</th>\n",
       "      <td>JEhyPP-ABCE7-BmoqdEKcJps</td>\n",
       "      <td>HLJmVLSqMCHzbHTu65Rt2tXo</td>\n",
       "      <td>vocabulary</td>\n",
       "      <td>iPhone14,5; iOS/15.3.1</td>\n",
       "      <td>2022-03-15T09:53:32.720-04:00</td>\n",
       "      <td>2022-03-15T09:56:41.172-04:00</td>\n",
       "      <td>2</td>\n",
       "      <td>{   \"appName\" : \"MobileToolboxApp\",   \"appVers...</td>\n",
       "      <td>K4pQ1FkyPodm_6XgUF4AlvJt</td>\n",
       "      <td>completed</td>\n",
       "      <td>enrollment</td>\n",
       "      <td>vocab_theta</td>\n",
       "      <td>0.024429</td>\n",
       "      <td>fmqcjv</td>\n",
       "      <td>f6ep6p</td>\n",
       "      <td></td>\n",
       "    </tr>\n",
       "    <tr>\n",
       "      <th>74309</th>\n",
       "      <td>JEhyPP-ABCE7-BmoqdEKcJps</td>\n",
       "      <td>HLJmVLSqMCHzbHTu65Rt2tXo</td>\n",
       "      <td>vocabulary</td>\n",
       "      <td>iPhone14,5; iOS/15.3.1</td>\n",
       "      <td>2022-03-15T09:53:32.720-04:00</td>\n",
       "      <td>2022-03-15T09:56:41.172-04:00</td>\n",
       "      <td>2</td>\n",
       "      <td>{   \"appName\" : \"MobileToolboxApp\",   \"appVers...</td>\n",
       "      <td>K4pQ1FkyPodm_6XgUF4AlvJt</td>\n",
       "      <td>completed</td>\n",
       "      <td>enrollment</td>\n",
       "      <td>vocab_se</td>\n",
       "      <td>0.499984</td>\n",
       "      <td>fmqcjv</td>\n",
       "      <td>f6ep6p</td>\n",
       "      <td></td>\n",
       "    </tr>\n",
       "    <tr>\n",
       "      <th>74310</th>\n",
       "      <td>l4FXJ3Gvi3-Z1JeGjhKEL_W5</td>\n",
       "      <td>HOv4NWO98UFkl9aEMPZ-gCq-</td>\n",
       "      <td>vocabulary</td>\n",
       "      <td>iPhone14,2; iOS/15.4.1</td>\n",
       "      <td>2022-05-14T16:08:52.478-07:00</td>\n",
       "      <td>2022-05-14T16:12:24.779-07:00</td>\n",
       "      <td>2</td>\n",
       "      <td>{   \"appName\" : \"MobileToolboxApp\",   \"appVers...</td>\n",
       "      <td>rTKC_5nbBbNcM0WPAwS_Xk5j</td>\n",
       "      <td>completed</td>\n",
       "      <td>custom:start_d21_rev</td>\n",
       "      <td>vocab_theta</td>\n",
       "      <td>0.124767</td>\n",
       "      <td>fmqcjv</td>\n",
       "      <td>47epqu</td>\n",
       "      <td></td>\n",
       "    </tr>\n",
       "    <tr>\n",
       "      <th>74311</th>\n",
       "      <td>l4FXJ3Gvi3-Z1JeGjhKEL_W5</td>\n",
       "      <td>HOv4NWO98UFkl9aEMPZ-gCq-</td>\n",
       "      <td>vocabulary</td>\n",
       "      <td>iPhone14,2; iOS/15.4.1</td>\n",
       "      <td>2022-05-14T16:08:52.478-07:00</td>\n",
       "      <td>2022-05-14T16:12:24.779-07:00</td>\n",
       "      <td>2</td>\n",
       "      <td>{   \"appName\" : \"MobileToolboxApp\",   \"appVers...</td>\n",
       "      <td>rTKC_5nbBbNcM0WPAwS_Xk5j</td>\n",
       "      <td>completed</td>\n",
       "      <td>custom:start_d21_rev</td>\n",
       "      <td>vocab_se</td>\n",
       "      <td>0.496002</td>\n",
       "      <td>fmqcjv</td>\n",
       "      <td>47epqu</td>\n",
       "      <td></td>\n",
       "    </tr>\n",
       "  </tbody>\n",
       "</table>\n",
       "<p>74312 rows × 16 columns</p>\n",
       "</div>"
      ],
      "text/plain": [
       "                     healthcode                  recordid  \\\n",
       "0      cY4HIctb-HGzdJBNNpq5wF9k  SHmXD5jtFlEZoKnV6D_OIk8a   \n",
       "1      lu00q1bRwYr51kwskzjR4gIg  damKL3weFYj3PeujGk9AMDza   \n",
       "2      LKE_vT7FqlqsIyMpORfGJ8XI  eUpDXeaH3gxzCGlYp1XJv7Jp   \n",
       "3      FB5W5lycWo-t4CITY3EMwWkV  t08yjcYVFfOoibS7vO_MEE_W   \n",
       "4      l-sAnwL4YwRgEp2HCrz8GB4b  6Cr3gtA4yczVh-UQwrA4kRQf   \n",
       "...                         ...                       ...   \n",
       "74307  HWbvHWpiLOkOwKdvOapK_NGy  HItbsDjq2Co68NGUZJFQa8uE   \n",
       "74308  JEhyPP-ABCE7-BmoqdEKcJps  HLJmVLSqMCHzbHTu65Rt2tXo   \n",
       "74309  JEhyPP-ABCE7-BmoqdEKcJps  HLJmVLSqMCHzbHTu65Rt2tXo   \n",
       "74310  l4FXJ3Gvi3-Z1JeGjhKEL_W5  HOv4NWO98UFkl9aEMPZ-gCq-   \n",
       "74311  l4FXJ3Gvi3-Z1JeGjhKEL_W5  HOv4NWO98UFkl9aEMPZ-gCq-   \n",
       "\n",
       "               assessmentid                        deviceInfo  \\\n",
       "0      memory-for-sequences             iPhone XS; iOS/15.4.1   \n",
       "1      memory-for-sequences        winglm LM-F100; Android/11   \n",
       "2      memory-for-sequences                iPhone 8; iOS/15.5   \n",
       "3      memory-for-sequences  crownqltesq SM-N960U; Android/10   \n",
       "4      memory-for-sequences             iPhone 11; iOS/16.0.2   \n",
       "...                     ...                               ...   \n",
       "74307            vocabulary            iPhone13,2; iOS/15.3.1   \n",
       "74308            vocabulary            iPhone14,5; iOS/15.3.1   \n",
       "74309            vocabulary            iPhone14,5; iOS/15.3.1   \n",
       "74310            vocabulary            iPhone14,2; iOS/15.4.1   \n",
       "74311            vocabulary            iPhone14,2; iOS/15.4.1   \n",
       "\n",
       "                           startDate                        endDate  \\\n",
       "0      2022-05-30T09:13:00.733-05:00  2022-05-30T09:18:20.329-05:00   \n",
       "1           2022-05-30T00:53:00.809Z       2022-05-30T00:59:50.793Z   \n",
       "2      2022-05-29T22:08:19.030-04:00  2022-05-29T22:11:38.886-04:00   \n",
       "3           2022-05-30T00:25:32.488Z       2022-05-30T00:30:33.884Z   \n",
       "4      2022-10-18T20:45:56.281-07:00  2022-10-18T20:52:37.214-07:00   \n",
       "...                              ...                            ...   \n",
       "74307  2022-03-02T23:28:14.099-07:00  2022-03-02T23:28:48.593-07:00   \n",
       "74308  2022-03-15T09:53:32.720-04:00  2022-03-15T09:56:41.172-04:00   \n",
       "74309  2022-03-15T09:53:32.720-04:00  2022-03-15T09:56:41.172-04:00   \n",
       "74310  2022-05-14T16:08:52.478-07:00  2022-05-14T16:12:24.779-07:00   \n",
       "74311  2022-05-14T16:08:52.478-07:00  2022-05-14T16:12:24.779-07:00   \n",
       "\n",
       "      participantversion                                         clientinfo  \\\n",
       "0                      2  {   \"appName\" : \"mobile-toolbox\",   \"appVersio...   \n",
       "1                      1  {   \"appName\" : \"mobile-toolbox\",   \"appVersio...   \n",
       "2                      2  {   \"appName\" : \"mobile-toolbox\",   \"appVersio...   \n",
       "3                      1  {   \"appName\" : \"mobile-toolbox\",   \"appVersio...   \n",
       "4                      2  {   \"appName\" : \"mobile-toolbox\",   \"appVersio...   \n",
       "...                  ...                                                ...   \n",
       "74307                  2  {   \"appName\" : \"MobileToolboxApp\",   \"appVers...   \n",
       "74308                  2  {   \"appName\" : \"MobileToolboxApp\",   \"appVers...   \n",
       "74309                  2  {   \"appName\" : \"MobileToolboxApp\",   \"appVers...   \n",
       "74310                  2  {   \"appName\" : \"MobileToolboxApp\",   \"appVers...   \n",
       "74311                  2  {   \"appName\" : \"MobileToolboxApp\",   \"appVers...   \n",
       "\n",
       "                    sessionguid taskStatus_val   sessionstarteventid  \\\n",
       "0      K4pQ1FkyPodm_6XgUF4AlvJt      completed            enrollment   \n",
       "1      K4pQ1FkyPodm_6XgUF4AlvJt      completed            enrollment   \n",
       "2      K4pQ1FkyPodm_6XgUF4AlvJt      completed            enrollment   \n",
       "3      K4pQ1FkyPodm_6XgUF4AlvJt      completed            enrollment   \n",
       "4      fvAIJs5Aqaimp9eWCjwuINQj      completed   custom:start_m6_fwd   \n",
       "...                         ...            ...                   ...   \n",
       "74307  K4pQ1FkyPodm_6XgUF4AlvJt      completed            enrollment   \n",
       "74308  K4pQ1FkyPodm_6XgUF4AlvJt      completed            enrollment   \n",
       "74309  K4pQ1FkyPodm_6XgUF4AlvJt      completed            enrollment   \n",
       "74310  rTKC_5nbBbNcM0WPAwS_Xk5j      completed  custom:start_d21_rev   \n",
       "74311  rTKC_5nbBbNcM0WPAwS_Xk5j      completed  custom:start_d21_rev   \n",
       "\n",
       "           scoreId      score study_reference participant_id dataGroups  \n",
       "0          mfs_sum  11.000000          fmqcjv         6sytfu             \n",
       "1          mfs_sum  13.000000          fmqcjv         eyhtxh             \n",
       "2          mfs_sum   2.000000          fmqcjv         ybkp6s             \n",
       "3          mfs_sum  13.000000          fmqcjv         uk43h7             \n",
       "4          mfs_sum  10.000000          fmqcjv         tkyzx9             \n",
       "...            ...        ...             ...            ...        ...  \n",
       "74307     vocab_se   0.553688          fmqcjv         yfhkzk             \n",
       "74308  vocab_theta   0.024429          fmqcjv         f6ep6p             \n",
       "74309     vocab_se   0.499984          fmqcjv         f6ep6p             \n",
       "74310  vocab_theta   0.124767          fmqcjv         47epqu             \n",
       "74311     vocab_se   0.496002          fmqcjv         47epqu             \n",
       "\n",
       "[74312 rows x 16 columns]"
      ]
     },
     "execution_count": 39,
     "metadata": {},
     "output_type": "execute_result"
    }
   ],
   "source": [
    "stack_merged"
   ]
  },
  {
   "cell_type": "code",
   "execution_count": null,
   "metadata": {},
   "outputs": [],
   "source": []
  }
 ],
 "metadata": {
  "kernelspec": {
   "display_name": "Python (global)",
   "language": "python",
   "name": "py3global"
  },
  "language_info": {
   "codemirror_mode": {
    "name": "ipython",
    "version": 3
   },
   "file_extension": ".py",
   "mimetype": "text/x-python",
   "name": "python",
   "nbconvert_exporter": "python",
   "pygments_lexer": "ipython3",
   "version": "3.9.1"
  }
 },
 "nbformat": 4,
 "nbformat_minor": 4
}
