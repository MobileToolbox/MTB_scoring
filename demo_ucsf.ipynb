{
 "cells": [
  {
   "cell_type": "markdown",
   "metadata": {},
   "source": [
    "### 1. Load libraries"
   ]
  },
  {
   "cell_type": "code",
   "execution_count": 1,
   "metadata": {},
   "outputs": [],
   "source": [
    "import pandas as pd"
   ]
  },
  {
   "cell_type": "code",
   "execution_count": 2,
   "metadata": {},
   "outputs": [],
   "source": [
    "from scoremtb.score import compute_score as cs\n",
    "from scoremtb.util import combine as comb\n",
    "from scoremtb.score import get_syndata as gsyn"
   ]
  },
  {
   "cell_type": "markdown",
   "metadata": {},
   "source": [
    "### 2. Load dataset"
   ]
  },
  {
   "cell_type": "code",
   "execution_count": 3,
   "metadata": {},
   "outputs": [],
   "source": [
    "PROJECT_ID = 'syn29357579'"
   ]
  },
  {
   "cell_type": "code",
   "execution_count": 4,
   "metadata": {},
   "outputs": [],
   "source": [
    "#Load data from S3\n",
    "# syn = gsyn.get_synclient()\n",
    "# dfid = gsyn.get_data(syn, PROJECT_ID, 'dataset_archivemetadata_v1/')\n",
    "# stepdata = gsyn.get_data(syn, PROJECT_ID, 'dataset_sharedschema_v1_steps/')\n",
    "# task_data = gsyn.get_data(syn, PROJECT_ID, 'dataset_sharedschema_v1/')\n",
    "# task_status = gsyn.get_data(syn, PROJECT_ID, 'dataset_sharedschema_v1_taskStatus/')\n",
    "\n",
    "######## OR ###########\n",
    "#Load data from downloaded csv's\n",
    "dfid = pd.read_csv('../../MTB/MTB_scoring/data/dfid.csv', low_memory=False)\n",
    "stepdata = pd.read_csv('../../MTB/MTB_scoring/data/stepdata.csv', low_memory=False)\n",
    "task_data = pd.read_csv('../../MTB/MTB_scoring/data/task_data.csv', low_memory=False)\n",
    "task_status = pd.read_csv('../../MTB/MTB_scoring/data/task_status.csv', low_memory=False)"
   ]
  },
  {
   "cell_type": "code",
   "execution_count": 5,
   "metadata": {},
   "outputs": [],
   "source": [
    "#Merge task status\n",
    "task_status = task_status.drop(columns=['id', 'index'])\n",
    "dfid = dfid.merge(task_status, on = ['recordid', 'assessmentid', 'year', 'month', 'day'],\n",
    "                    how='left').reset_index(drop=True)"
   ]
  },
  {
   "cell_type": "markdown",
   "metadata": {},
   "source": [
    "### 3. Filter Scores"
   ]
  },
  {
   "cell_type": "markdown",
   "metadata": {},
   "source": [
    "##### 3.1 Study membership details"
   ]
  },
  {
   "cell_type": "code",
   "execution_count": 6,
   "metadata": {},
   "outputs": [],
   "source": [
    "def study_membership():\n",
    "    syn = gsyn.get_synclient('USER_NAME','PASSWORD') \n",
    "    \n",
    "    table_syn = syn.tableQuery('SELECT * FROM syn29300177')\n",
    "    study_details = table_syn.asDataFrame()\n",
    "    study_details = study_details.sort_values(by=['healthCode', 'participantVersion']).reset_index(drop=True)\n",
    "    \n",
    "    study_details = study_details[['healthCode','studyMemberships']]\n",
    "    study_details = study_details.rename(columns={\"healthCode\": \"healthcode\"})\n",
    "    \n",
    "    study_details = study_details.drop_duplicates(keep='last')\n",
    "    return study_details.reset_index(drop=True)"
   ]
  },
  {
   "cell_type": "code",
   "execution_count": 23,
   "metadata": {},
   "outputs": [],
   "source": [
    "study_reference = study_membership()"
   ]
  },
  {
   "cell_type": "markdown",
   "metadata": {},
   "source": [
    "#### 3.2 Spelling"
   ]
  },
  {
   "cell_type": "code",
   "execution_count": 8,
   "metadata": {},
   "outputs": [],
   "source": [
    "spelling_score = cs.score_spell_vocab_psm(task_data, dfid, 'Spelling', study_reference)"
   ]
  },
  {
   "cell_type": "markdown",
   "metadata": {},
   "source": [
    "#### 3.3 Vocab"
   ]
  },
  {
   "cell_type": "code",
   "execution_count": 9,
   "metadata": {},
   "outputs": [],
   "source": [
    "vocab_score = cs.score_spell_vocab_psm(task_data, dfid, 'Vocab', study_reference)"
   ]
  },
  {
   "cell_type": "markdown",
   "metadata": {},
   "source": [
    "#### 3.4 PSM"
   ]
  },
  {
   "cell_type": "code",
   "execution_count": 10,
   "metadata": {},
   "outputs": [
    {
     "name": "stderr",
     "output_type": "stream",
     "text": [
      "[WARNING] /home/ssm-user/Vijay/MTB_testing/MTB_scoring/scoremtb/score/get_spellvocab_score.py:56: SettingWithCopyWarning: \n",
      "A value is trying to be set on a copy of a slice from a DataFrame.\n",
      "Try using .loc[row_indexer,col_indexer] = value instead\n",
      "\n",
      "See the caveats in the documentation: https://pandas.pydata.org/pandas-docs/stable/user_guide/indexing.html#returning-a-view-versus-a-copy\n",
      "  task_scrd[config['psm_adj']] = task_scrd.loc[:, [config['scores_adjacentP1'], config['scores_adjacentP2']]].sum(axis=1)\n",
      "\n",
      "WARNING:py.warnings:/home/ssm-user/Vijay/MTB_testing/MTB_scoring/scoremtb/score/get_spellvocab_score.py:56: SettingWithCopyWarning: \n",
      "A value is trying to be set on a copy of a slice from a DataFrame.\n",
      "Try using .loc[row_indexer,col_indexer] = value instead\n",
      "\n",
      "See the caveats in the documentation: https://pandas.pydata.org/pandas-docs/stable/user_guide/indexing.html#returning-a-view-versus-a-copy\n",
      "  task_scrd[config['psm_adj']] = task_scrd.loc[:, [config['scores_adjacentP1'], config['scores_adjacentP2']]].sum(axis=1)\n",
      "\n",
      "[WARNING] /home/ssm-user/Vijay/MTB_testing/MTB_scoring/scoremtb/score/get_spellvocab_score.py:57: SettingWithCopyWarning: \n",
      "A value is trying to be set on a copy of a slice from a DataFrame.\n",
      "Try using .loc[row_indexer,col_indexer] = value instead\n",
      "\n",
      "See the caveats in the documentation: https://pandas.pydata.org/pandas-docs/stable/user_guide/indexing.html#returning-a-view-versus-a-copy\n",
      "  task_scrd[config['psm_exact']] = task_scrd.loc[:, [config['scores_exactM1'], config['scores_exactM2']]].sum(axis=1)\n",
      "\n",
      "WARNING:py.warnings:/home/ssm-user/Vijay/MTB_testing/MTB_scoring/scoremtb/score/get_spellvocab_score.py:57: SettingWithCopyWarning: \n",
      "A value is trying to be set on a copy of a slice from a DataFrame.\n",
      "Try using .loc[row_indexer,col_indexer] = value instead\n",
      "\n",
      "See the caveats in the documentation: https://pandas.pydata.org/pandas-docs/stable/user_guide/indexing.html#returning-a-view-versus-a-copy\n",
      "  task_scrd[config['psm_exact']] = task_scrd.loc[:, [config['scores_exactM1'], config['scores_exactM2']]].sum(axis=1)\n",
      "\n"
     ]
    }
   ],
   "source": [
    "PSM_score = cs.score_spell_vocab_psm(task_data, dfid, 'PSM', study_reference)"
   ]
  },
  {
   "cell_type": "markdown",
   "metadata": {},
   "source": [
    "#### 3.5 MFS"
   ]
  },
  {
   "cell_type": "code",
   "execution_count": 11,
   "metadata": {},
   "outputs": [],
   "source": [
    "score_mfs = cs.score_event_common(task_data, stepdata, dfid, 'MFS', study_reference)"
   ]
  },
  {
   "cell_type": "markdown",
   "metadata": {},
   "source": [
    "#### 3.6 DCCS"
   ]
  },
  {
   "cell_type": "code",
   "execution_count": 12,
   "metadata": {},
   "outputs": [],
   "source": [
    "score_dccs = cs.score_event_common(task_data, stepdata, dfid, 'DCCS', study_reference)"
   ]
  },
  {
   "cell_type": "markdown",
   "metadata": {},
   "source": [
    "#### 3.7 Fname"
   ]
  },
  {
   "cell_type": "code",
   "execution_count": 13,
   "metadata": {},
   "outputs": [],
   "source": [
    "score_fname = cs.score_event_common(task_data, stepdata, dfid, 'FNAME', study_reference)"
   ]
  },
  {
   "cell_type": "markdown",
   "metadata": {},
   "source": [
    "#### 3.8 Number Match"
   ]
  },
  {
   "cell_type": "code",
   "execution_count": 14,
   "metadata": {},
   "outputs": [],
   "source": [
    "score_nm = cs.score_event_common(task_data, stepdata, dfid, 'Number Match', study_reference)"
   ]
  },
  {
   "cell_type": "markdown",
   "metadata": {},
   "source": [
    "#### 3.9 Flanker"
   ]
  },
  {
   "cell_type": "code",
   "execution_count": 15,
   "metadata": {},
   "outputs": [],
   "source": [
    "score_flanker = cs.score_event_common(task_data, stepdata, dfid, 'Flanker', study_reference)"
   ]
  },
  {
   "cell_type": "markdown",
   "metadata": {},
   "source": [
    "### 4. Combine Score"
   ]
  },
  {
   "cell_type": "code",
   "execution_count": 16,
   "metadata": {},
   "outputs": [],
   "source": [
    "stack_merged = comb.combine_scores(score_mfs, score_dccs, score_fname, score_nm, score_flanker, PSM_score, \n",
    "                                   spelling_score, vocab_score, dfid)"
   ]
  },
  {
   "cell_type": "code",
   "execution_count": 19,
   "metadata": {},
   "outputs": [],
   "source": [
    "# stack_merged.to_csv('MTB_UCSF_scores.csv', index=False)"
   ]
  },
  {
   "cell_type": "code",
   "execution_count": null,
   "metadata": {},
   "outputs": [],
   "source": []
  }
 ],
 "metadata": {
  "kernelspec": {
   "display_name": "Python 3 (ipykernel)",
   "language": "python",
   "name": "python3"
  },
  "language_info": {
   "codemirror_mode": {
    "name": "ipython",
    "version": 3
   },
   "file_extension": ".py",
   "mimetype": "text/x-python",
   "name": "python",
   "nbconvert_exporter": "python",
   "pygments_lexer": "ipython3",
   "version": "3.8.3"
  }
 },
 "nbformat": 4,
 "nbformat_minor": 4
}
