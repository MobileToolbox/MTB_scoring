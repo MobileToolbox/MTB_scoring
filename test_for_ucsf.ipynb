{
 "cells": [
  {
   "cell_type": "markdown",
   "metadata": {},
   "source": [
    "### 1. Load libraries"
   ]
  },
  {
   "cell_type": "code",
   "execution_count": 1,
   "metadata": {},
   "outputs": [],
   "source": [
    "import numpy as np\n",
    "import pandas as pd"
   ]
  },
  {
   "cell_type": "code",
   "execution_count": 2,
   "metadata": {},
   "outputs": [],
   "source": [
    "from MTB_Score_ucsf.MTB_SCORE.Get_Stepdata import Get_Stepdata\n",
    "from MTB_Score_ucsf.MTB_SCORE.Get_score_item import Get_score_items\n",
    "from MTB_Score_ucsf.MTB_SCORE.Get_Scoresums import Get_Scoresum\n",
    "from MTB_Score_ucsf.MTB_SCORE.Get_Scores import Get_Score\n",
    "from MTB_Score_ucsf.MTB_SCORE.Combine import Combine\n",
    "from MTB_Score_ucsf.MTB_SCORE.GetScore_SpellingAndVocab import GetScore_SpellingAndVocab\n"
   ]
  },
  {
   "cell_type": "code",
   "execution_count": 3,
   "metadata": {},
   "outputs": [],
   "source": [
    "import synapseclient\n",
    "from pyarrow import fs\n",
    "import pyarrow.parquet as pq\n",
    "import pandas as pd\n",
    "\n",
    "#######################################################\n",
    "# Change this to the synapse Id of the Parquet folder\n",
    "PROJECT_ID = 'syn29357579'\n",
    "#######################################################\n"
   ]
  },
  {
   "cell_type": "markdown",
   "metadata": {},
   "source": [
    "### 2. Load dataset"
   ]
  },
  {
   "cell_type": "code",
   "execution_count": 4,
   "metadata": {},
   "outputs": [
    {
     "name": "stdout",
     "output_type": "stream",
     "text": [
      "Welcome, Vijay Yadav!\n",
      "\n"
     ]
    },
    {
     "name": "stderr",
     "output_type": "stream",
     "text": [
      "\n",
      "UPGRADE AVAILABLE\n",
      "\n",
      "A more recent version of the Synapse Client (2.7.0) is available. Your version (2.6.0) can be upgraded by typing:\n",
      "    pip install --upgrade synapseclient\n",
      "\n",
      "Python Synapse Client version 2.7.0 release notes\n",
      "\n",
      "https://python-docs.synapse.org/build/html/news.html\n",
      "\n"
     ]
    }
   ],
   "source": [
    "\n",
    "syn = synapseclient.login()\n",
    "\n",
    "token = syn.get_sts_storage_token(PROJECT_ID, permission=\"read_only\") # , output_format='bash'\n",
    "s3 = fs.S3FileSystem(access_key=token['accessKeyId'], \n",
    "                     secret_key = token['secretAccessKey'],\n",
    "                     session_token = token['sessionToken'])\n",
    "\n",
    "bucket_path = token['bucket']+'/'+token['baseKey']+'/'\n",
    "\n",
    "\n",
    "#####\n",
    "dataset_path1=bucket_path+'dataset_archivemetadata_v1/'\n",
    "\n",
    "dataset1 = pq.ParquetDataset(dataset_path1, filesystem=s3)\n",
    "dfid = dataset1.read().to_pandas()\n",
    "\n",
    "#####\n",
    "dataset_path2=bucket_path+'dataset_sharedschema_v1_steps/'\n",
    "\n",
    "dataset2 = pq.ParquetDataset(dataset_path2, filesystem=s3)\n",
    "stepdata= dataset2.read().to_pandas()\n",
    "\n",
    "#####\n",
    "dataset_path3=bucket_path+'dataset_sharedschema_v1/'\n",
    "\n",
    "dataset3 = pq.ParquetDataset(dataset_path3, filesystem=s3)\n",
    "task_data= dataset3.read().to_pandas()"
   ]
  },
  {
   "cell_type": "code",
   "execution_count": 5,
   "metadata": {},
   "outputs": [],
   "source": [
    "# dfid = pd.read_csv('loaded_data/dfid.csv', low_memory=False)\n",
    "# stepdata = pd.read_csv('loaded_data/stepdata.csv', low_memory=False)\n",
    "# task_data = pd.read_csv('loaded_data/task_data.csv', low_memory=False)"
   ]
  },
  {
   "cell_type": "code",
   "execution_count": 6,
   "metadata": {},
   "outputs": [],
   "source": [
    "#Drop duplicates\n",
    "dfid = dfid.drop_duplicates(subset=['recordid', 'startDate', 'assessmentid', 'taskRunUUID', 'appVersion', \n",
    "                                    'deviceInfo', 'endDate']).reset_index(drop=True)"
   ]
  },
  {
   "cell_type": "markdown",
   "metadata": {},
   "source": [
    "### 3. Filter Scores"
   ]
  },
  {
   "cell_type": "markdown",
   "metadata": {},
   "source": [
    "##### 3.1 Study membership details"
   ]
  },
  {
   "cell_type": "code",
   "execution_count": 7,
   "metadata": {},
   "outputs": [],
   "source": [
    "demo_table_syn = syn.tableQuery('SELECT * FROM syn29300177') \n",
    "table_substudymembership = demo_table_syn.asDataFrame()\n",
    "table_substudymembership = table_substudymembership.sort_values(by=['healthCode', \n",
    "                                                                    'participantVersion']).reset_index(drop=True)\n",
    "\n",
    "table_substudymembership=table_substudymembership[['healthCode','studyMemberships']]\n",
    "table_substudymembership=table_substudymembership.drop_duplicates(keep='last')"
   ]
  },
  {
   "cell_type": "markdown",
   "metadata": {},
   "source": [
    "##### 3.2 Vocab"
   ]
  },
  {
   "cell_type": "code",
   "execution_count": 8,
   "metadata": {},
   "outputs": [],
   "source": [
    "#vocab\n",
    "vocab_score=GetScore_SpellingAndVocab(task_data,dfid,'Vocab')\n",
    "vocab_score=pd.merge(vocab_score,table_substudymembership,how='inner',left_on='healthcode',right_on='healthCode')\n",
    "del vocab_score['healthCode']\n",
    "\n",
    "columns = ['vocab_THETA', 'vocab_SE']\n",
    "vocab_score['score_dict'] = vocab_score[columns].to_dict(orient='records')\n",
    "vocab_score = vocab_score.drop(columns=columns)\n"
   ]
  },
  {
   "cell_type": "markdown",
   "metadata": {},
   "source": [
    "##### 3.3 Spelling"
   ]
  },
  {
   "cell_type": "code",
   "execution_count": 9,
   "metadata": {},
   "outputs": [],
   "source": [
    "#spelling\n",
    "spelling_score=GetScore_SpellingAndVocab(task_data,dfid,'Spelling')\n",
    "spelling_score=pd.merge(spelling_score,table_substudymembership,how='inner',left_on='healthcode',right_on='healthCode')\n",
    "del spelling_score['healthCode']\n",
    "\n",
    "columns = ['spell_THETA', 'spell_SE']\n",
    "spelling_score['score_dict'] = spelling_score[columns].to_dict(orient='records')\n",
    "spelling_score = spelling_score.drop(columns=columns)\n"
   ]
  },
  {
   "cell_type": "markdown",
   "metadata": {},
   "source": [
    "##### 3.4 PSM"
   ]
  },
  {
   "cell_type": "code",
   "execution_count": 10,
   "metadata": {},
   "outputs": [
    {
     "name": "stderr",
     "output_type": "stream",
     "text": [
      "[WARNING] /home/vyadav/Vijay/MTB/scoring_pipeline/MTB_Score_ucsf/MTB_SCORE/GetScore_SpellingAndVocab.py:67: SettingWithCopyWarning: \n",
      "A value is trying to be set on a copy of a slice from a DataFrame.\n",
      "Try using .loc[row_indexer,col_indexer] = value instead\n",
      "\n",
      "See the caveats in the documentation: https://pandas.pydata.org/pandas-docs/stable/user_guide/indexing.html#returning-a-view-versus-a-copy\n",
      "  psm_taskData_scrd['psm.adj.sum'] = psm_taskData_scrd.loc[:,['scores_adjacentPairs1','scores_adjacentPairs2']].sum(axis=1)\n",
      "\n",
      "[WARNING] /home/vyadav/Vijay/MTB/scoring_pipeline/MTB_Score_ucsf/MTB_SCORE/GetScore_SpellingAndVocab.py:68: SettingWithCopyWarning: \n",
      "A value is trying to be set on a copy of a slice from a DataFrame.\n",
      "Try using .loc[row_indexer,col_indexer] = value instead\n",
      "\n",
      "See the caveats in the documentation: https://pandas.pydata.org/pandas-docs/stable/user_guide/indexing.html#returning-a-view-versus-a-copy\n",
      "  psm_taskData_scrd['psm.exact.sum'] = psm_taskData_scrd.loc[:,['scores_exactMatch1','scores_exactMatch2']].sum(axis=1)\n",
      "\n"
     ]
    }
   ],
   "source": [
    "#psm\n",
    "PSM_score=GetScore_SpellingAndVocab(task_data,dfid,'PSM')\n",
    "PSM_score=pd.merge(PSM_score,table_substudymembership,how='inner',left_on='healthcode',right_on='healthCode')\n",
    "del PSM_score['healthCode']\n",
    "\n",
    "columns = ['psm.adj.sum', 'psm.exact.sum']\n",
    "PSM_score['score_dict'] = PSM_score[columns].to_dict(orient='records')\n",
    "PSM_score = PSM_score.drop(columns=columns)"
   ]
  },
  {
   "cell_type": "markdown",
   "metadata": {},
   "source": [
    "##### 3.5 MFS"
   ]
  },
  {
   "cell_type": "code",
   "execution_count": 11,
   "metadata": {},
   "outputs": [],
   "source": [
    "#mfs\n",
    "step_mfs=Get_Stepdata(stepdata,'MFS')\n",
    "scoreitem_mfs=Get_score_items('MFS')\n",
    "scoresum_mfs=Get_Scoresum(step_mfs,scoreitem_mfs,'MFS')\n",
    "\n",
    "score_mfs=Get_Score(scoresum_mfs,task_data, dfid,'MFS')\n",
    "score_mfs=pd.merge(score_mfs,table_substudymembership,how='inner',left_on='healthcode',right_on='healthCode')\n",
    "del score_mfs['healthCode']\n",
    "\n",
    "columns = ['mfs_sum']\n",
    "score_mfs['score_dict'] = score_mfs[columns].to_dict(orient='records')\n",
    "score_mfs = score_mfs.drop(columns=columns)"
   ]
  },
  {
   "cell_type": "markdown",
   "metadata": {},
   "source": [
    "##### 3.6 DCCS"
   ]
  },
  {
   "cell_type": "code",
   "execution_count": 12,
   "metadata": {},
   "outputs": [],
   "source": [
    "#dccs\n",
    "step_dccs=Get_Stepdata(stepdata,'DCCS')\n",
    "scoreitem_dccs=Get_score_items('DCCS')\n",
    "scoresum_dccs=Get_Scoresum(step_dccs,scoreitem_dccs,'DCCS')\n",
    "score_dccs=Get_Score(scoresum_dccs,task_data, dfid,'DCCS')\n",
    "score_dccs=pd.merge(score_dccs,table_substudymembership,how='inner',left_on='healthcode',right_on='healthCode')\n",
    "del score_dccs['healthCode']\n",
    "\n",
    "columns = ['dccs_time', 'dccs_score', 'DCCS_accuracy']\n",
    "score_dccs['score_dict'] = score_dccs[columns].to_dict(orient='records')\n",
    "score_dccs = score_dccs.drop(columns=columns)"
   ]
  },
  {
   "cell_type": "markdown",
   "metadata": {},
   "source": [
    "##### 3.7 Fname_b"
   ]
  },
  {
   "cell_type": "code",
   "execution_count": 13,
   "metadata": {},
   "outputs": [],
   "source": [
    "#fname\n",
    "step_fname=Get_Stepdata(stepdata,'FNAME')\n",
    "scoreitem_fname=Get_score_items('FNAME')\n",
    "scoresum_fname=Get_Scoresum(step_fname,scoreitem_fname,'FNAME')\n",
    "\n",
    "score_fname=Get_Score(scoresum_fname,task_data, dfid,'FNAME')\n",
    "score_fname=pd.merge(score_fname,table_substudymembership,how='inner',left_on='healthcode',right_on='healthCode')\n",
    "del score_fname['healthCode']\n",
    "\n",
    "columns = ['FNAME_theta', 'FNAME_sd']\n",
    "score_fname['score_dict'] = score_fname[columns].to_dict(orient='records')\n",
    "score_fname = score_fname.drop(columns=columns)"
   ]
  },
  {
   "cell_type": "markdown",
   "metadata": {},
   "source": [
    "##### 3.8 Number Match"
   ]
  },
  {
   "cell_type": "code",
   "execution_count": 14,
   "metadata": {},
   "outputs": [],
   "source": [
    "#nm\n",
    "step_nm=Get_Stepdata(stepdata,'Number Match')\n",
    "scoreitem_nm=Get_score_items('Number Match')\n",
    "scoresum_nm=Get_Scoresum(step_nm,scoreitem_nm,'Number Match')\n",
    "\n",
    "score_nm=Get_Score(scoresum_nm,task_data, dfid,'Number Match')\n",
    "score_nm=pd.merge(score_nm,table_substudymembership,how='inner',left_on='healthcode',right_on='healthCode')\n",
    "del score_nm['healthCode']\n",
    "\n",
    "columns = ['numberMatch_raw']\n",
    "score_nm['score_dict'] = score_nm[columns].to_dict(orient='records')\n",
    "score_nm = score_nm.drop(columns=columns)"
   ]
  },
  {
   "cell_type": "markdown",
   "metadata": {},
   "source": [
    "##### 3.9 Flanker"
   ]
  },
  {
   "cell_type": "code",
   "execution_count": 15,
   "metadata": {},
   "outputs": [],
   "source": [
    "#flanker\n",
    "step_flanker=Get_Stepdata(stepdata,'Flanker')\n",
    "scoreitem_flanker=Get_score_items('Flanker')\n",
    "scoresum_flanker=Get_Scoresum(step_flanker,scoreitem_flanker,'Flanker')\n",
    "\n",
    "score_flanker=Get_Score(scoresum_flanker,task_data, dfid,'Flanker')\n",
    "score_flanker=pd.merge(score_flanker,table_substudymembership,how='inner',left_on='healthcode',right_on='healthCode')\n",
    "del score_flanker['healthCode']\n",
    "\n",
    "columns = ['flkr_time', 'flkr_score', 'FLANKER_accuracy']\n",
    "score_flanker['score_dict'] = score_flanker[columns].to_dict(orient='records')\n",
    "score_flanker = score_flanker.drop(columns=columns)"
   ]
  },
  {
   "cell_type": "markdown",
   "metadata": {},
   "source": [
    "### 4. Combine Score"
   ]
  },
  {
   "cell_type": "code",
   "execution_count": 16,
   "metadata": {},
   "outputs": [],
   "source": [
    "stack_merged, scores_merged = Combine(score_mfs, score_dccs, score_fname, score_nm, score_flanker, PSM_score, \n",
    "                                      spelling_score, vocab_score, dfid)\n"
   ]
  },
  {
   "cell_type": "code",
   "execution_count": 17,
   "metadata": {},
   "outputs": [],
   "source": [
    "#stack_merged.to_csv('MTB_UCSF_scores.csv', index=False)"
   ]
  },
  {
   "cell_type": "code",
   "execution_count": null,
   "metadata": {},
   "outputs": [],
   "source": []
  },
  {
   "cell_type": "code",
   "execution_count": null,
   "metadata": {},
   "outputs": [],
   "source": []
  }
 ],
 "metadata": {
  "kernelspec": {
   "display_name": "Python 3",
   "language": "python",
   "name": "python3"
  },
  "language_info": {
   "codemirror_mode": {
    "name": "ipython",
    "version": 3
   },
   "file_extension": ".py",
   "mimetype": "text/x-python",
   "name": "python",
   "nbconvert_exporter": "python",
   "pygments_lexer": "ipython3",
   "version": "3.7.3"
  },
  "vscode": {
   "interpreter": {
    "hash": "aee8b7b246df8f9039afb4144a1f6fd8d2ca17a180786b69acc140d282b71a49"
   }
  }
 },
 "nbformat": 4,
 "nbformat_minor": 2
}
